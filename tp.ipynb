{
 "cells": [
  {
   "cell_type": "code",
   "execution_count": 1,
   "metadata": {},
   "outputs": [],
   "source": [
    "import pandas as pd"
   ]
  },
  {
   "cell_type": "code",
   "execution_count": 2,
   "metadata": {},
   "outputs": [],
   "source": [
    "import json\n",
    "#read json\n",
    "with open('data/interview_date_training_data.json') as f:\n",
    "    data = json.load(f)\n"
   ]
  },
  {
   "cell_type": "code",
   "execution_count": 3,
   "metadata": {},
   "outputs": [
    {
     "data": {
      "text/html": [
       "<div>\n",
       "<style scoped>\n",
       "    .dataframe tbody tr th:only-of-type {\n",
       "        vertical-align: middle;\n",
       "    }\n",
       "\n",
       "    .dataframe tbody tr th {\n",
       "        vertical-align: top;\n",
       "    }\n",
       "\n",
       "    .dataframe thead th {\n",
       "        text-align: right;\n",
       "    }\n",
       "</style>\n",
       "<table border=\"1\" class=\"dataframe\">\n",
       "  <thead>\n",
       "    <tr style=\"text-align: right;\">\n",
       "      <th></th>\n",
       "      <th>transcript</th>\n",
       "      <th>conversation_length</th>\n",
       "    </tr>\n",
       "  </thead>\n",
       "  <tbody>\n",
       "    <tr>\n",
       "      <th>0</th>\n",
       "      <td>[{'Customer': 'no ma'am you're not this is gar...</td>\n",
       "      <td>2</td>\n",
       "    </tr>\n",
       "    <tr>\n",
       "      <th>1</th>\n",
       "      <td>[{'Agent': 'Hi, I'm Taylor, calling from Westl...</td>\n",
       "      <td>3</td>\n",
       "    </tr>\n",
       "    <tr>\n",
       "      <th>2</th>\n",
       "      <td>[{'Agent': 'Hi, I'm Taylor, calling from Westl...</td>\n",
       "      <td>2</td>\n",
       "    </tr>\n",
       "    <tr>\n",
       "      <th>3</th>\n",
       "      <td>[{'Agent': 'Hi, I'm Taylor, calling from Westl...</td>\n",
       "      <td>2</td>\n",
       "    </tr>\n",
       "    <tr>\n",
       "      <th>4</th>\n",
       "      <td>[{'Agent': 'When do you think you could make a...</td>\n",
       "      <td>2</td>\n",
       "    </tr>\n",
       "    <tr>\n",
       "      <th>...</th>\n",
       "      <td>...</td>\n",
       "      <td>...</td>\n",
       "    </tr>\n",
       "    <tr>\n",
       "      <th>108</th>\n",
       "      <td>[{'Agent': 'When would you be able to make a p...</td>\n",
       "      <td>2</td>\n",
       "    </tr>\n",
       "    <tr>\n",
       "      <th>109</th>\n",
       "      <td>[{'Agent': 'Is it possible for you to make the...</td>\n",
       "      <td>2</td>\n",
       "    </tr>\n",
       "    <tr>\n",
       "      <th>110</th>\n",
       "      <td>[{'Agent': 'When do you plan to make the payme...</td>\n",
       "      <td>2</td>\n",
       "    </tr>\n",
       "    <tr>\n",
       "      <th>111</th>\n",
       "      <td>[{'Agent': 'Can you advise when you'll manage ...</td>\n",
       "      <td>2</td>\n",
       "    </tr>\n",
       "    <tr>\n",
       "      <th>112</th>\n",
       "      <td>[{'Agent': 'When should we expect the payment?...</td>\n",
       "      <td>2</td>\n",
       "    </tr>\n",
       "  </tbody>\n",
       "</table>\n",
       "<p>113 rows × 2 columns</p>\n",
       "</div>"
      ],
      "text/plain": [
       "                                            transcript conversation_length\n",
       "0    [{'Customer': 'no ma'am you're not this is gar...                   2\n",
       "1    [{'Agent': 'Hi, I'm Taylor, calling from Westl...                   3\n",
       "2    [{'Agent': 'Hi, I'm Taylor, calling from Westl...                   2\n",
       "3    [{'Agent': 'Hi, I'm Taylor, calling from Westl...                   2\n",
       "4    [{'Agent': 'When do you think you could make a...                   2\n",
       "..                                                 ...                 ...\n",
       "108  [{'Agent': 'When would you be able to make a p...                   2\n",
       "109  [{'Agent': 'Is it possible for you to make the...                   2\n",
       "110  [{'Agent': 'When do you plan to make the payme...                   2\n",
       "111  [{'Agent': 'Can you advise when you'll manage ...                   2\n",
       "112  [{'Agent': 'When should we expect the payment?...                   2\n",
       "\n",
       "[113 rows x 2 columns]"
      ]
     },
     "execution_count": 3,
     "metadata": {},
     "output_type": "execute_result"
    }
   ],
   "source": [
    "df = pd.DataFrame(columns=['transcript', 'conversation_length'])\n",
    "for r in data:\n",
    "    dat = r['sample_input'].split('\\n###\\nTRANSCRIPT\\n')[-1][:-4]\n",
    "    dat = dat.split('\\n')\n",
    "\n",
    "    conv = []\n",
    "    for dia in dat:\n",
    "        # check if a string startswith 'Agent' \n",
    "        if dia.startswith('Agent:'):\n",
    "            conv.append({'Agent':dia[7:]})\n",
    "        elif dia.startswith('Customer:'):\n",
    "            conv.append({'Customer':dia[10:]})\n",
    "        else:\n",
    "            conv.append({'Other':dia})\n",
    "\n",
    "    # append row\n",
    "    row = {'transcript': conv, 'conversation_length': len(conv)}\n",
    "    df = pd.concat([df, pd.DataFrame([row])], ignore_index=True)\n",
    "\n",
    "df"
   ]
  },
  {
   "cell_type": "code",
   "execution_count": 4,
   "metadata": {},
   "outputs": [],
   "source": [
    "df.to_csv('data/interview_date_training_data.csv', index=False)"
   ]
  },
  {
   "cell_type": "code",
   "execution_count": 5,
   "metadata": {},
   "outputs": [
    {
     "data": {
      "text/plain": [
       "conversation_length\n",
       "2    110\n",
       "3      2\n",
       "4      1\n",
       "Name: count, dtype: int64"
      ]
     },
     "execution_count": 5,
     "metadata": {},
     "output_type": "execute_result"
    }
   ],
   "source": [
    "df['conversation_length'].value_counts()"
   ]
  },
  {
   "cell_type": "code",
   "execution_count": 6,
   "metadata": {},
   "outputs": [],
   "source": [
    "import spacy\n",
    "from spacy import displacy\n",
    "from collections import Counter\n",
    "import en_core_web_lg\n",
    "nlp = en_core_web_lg.load()"
   ]
  },
  {
   "cell_type": "code",
   "execution_count": 7,
   "metadata": {},
   "outputs": [
    {
     "name": "stdout",
     "output_type": "stream",
     "text": [
      "TRANSCRIPT:\n",
      " Agent: Hi, I'm Taylor, calling from Westlake Financial on a recorded line. How can I assist you today?\n",
      "Customer: I received a call from this number, but I am not sure why. Can you help me understand why I am being contacted? \n",
      "\n",
      "[('today', 'DATE')]\n"
     ]
    }
   ],
   "source": [
    "sentence = str(data[8]['sample_input'].split('\\n###\\nTRANSCRIPT\\n')[-1][:-4])\n",
    "print(\"TRANSCRIPT:\\n\", sentence, '\\n')\n",
    "\n",
    "doc = nlp(sentence)\n",
    "print([(X.text, X.label_) for X in doc.ents if X.label_ == 'DATE'])"
   ]
  },
  {
   "cell_type": "code",
   "execution_count": 8,
   "metadata": {},
   "outputs": [
    {
     "name": "stdout",
     "output_type": "stream",
     "text": [
      "TRANSCRIPT:\n",
      "\n",
      "Customer: no ma'am you're not this is gary dinger's number please remove it from your calling list\n",
      "Agent: My apologies for the misunderstanding. Have a great rest of your day. Goodbye!\n",
      "\n",
      "[(\"gary dinger's\", 'PERSON')]\n",
      "TRANSCRIPT:\n",
      "\n",
      "Customer: for what excuse me\n",
      "Agent: You have a loan with us for a 2015 Ram Promaster City. The monthly payment of $290.94 is overdue. Can you make a payment today?\n",
      "\n",
      "[('2015', 'DATE'), ('monthly', 'DATE'), ('290.94', 'MONEY'), ('today', 'DATE')]\n",
      "TRANSCRIPT:\n",
      "\n",
      "Customer: i get ma'am i was like hold on i i was wondering if we can do like a payment alright payment arrangement because i have half of the money i just need a couple days to get the rest\n",
      "\n",
      "[('half', 'CARDINAL'), ('a couple days', 'DATE')]\n",
      "TRANSCRIPT:\n",
      "\n",
      "Customer: yeah i did i did it through text but that that bring the house for this one and then press two or whatever\n",
      "\n",
      "[('two', 'CARDINAL')]\n",
      "TRANSCRIPT:\n",
      "\n",
      "Agent: When do you think you could make a payment?\n",
      "Customer: I'm sorry, there's been a misunderstanding. I don't have a loan or any other commitments with you.\n",
      "\n",
      "[]\n",
      "TRANSCRIPT:\n",
      "\n",
      "Agent: Could you please specify the date when you can make the payment?\n",
      "Customer: I won't be able to make any payments. You have the wrong person.\n",
      "\n",
      "[]\n",
      "TRANSCRIPT:\n",
      "\n",
      "Agent: When can you make the payment?\n",
      "Customer: I don’t have a loan with Westlake Financial. Please remove this number from your list.\n",
      "\n",
      "[('Westlake Financial', 'ORG')]\n",
      "TRANSCRIPT:\n",
      "\n",
      "Agent: When do you think you could make a payment?\n",
      "Customer: You must have the wrong person, I don't have any loans.\n",
      "\n",
      "[]\n",
      "TRANSCRIPT:\n",
      "\n",
      "Customer: I received a call from this number, but I am not sure why. Can you help me understand why I am being contacted?\n",
      "\n",
      "[]\n",
      "TRANSCRIPT:\n",
      "\n",
      "Agent: Hello, this is Westlake Financial. Could you please verify your date of birth for security purposes?\n",
      "Customer: I believe you have the wrong person, I don't have any financial dealings with you.\n",
      "\n",
      "[('Westlake Financial', 'ORG')]\n",
      "TRANSCRIPT:\n",
      "\n",
      "Agent: Hi, this is Westlake Financial. How may I assist you today?\n",
      "Customer: I'd like to update my contact information. I recently moved and I would like to use my new address.\n",
      "\n",
      "[('Westlake Financial', 'ORG'), ('today', 'DATE')]\n"
     ]
    }
   ],
   "source": [
    "for i, r in df.iterrows():\n",
    "\n",
    "    transcript = r['transcript']\n",
    "    print(\"TRANSCRIPT:\\n\")\n",
    "    formatted_transcript = \"\"\n",
    "    for ele in transcript:\n",
    "        for e in ele.keys():\n",
    "            # print(e, ': ', ele[e], '\\n')\n",
    "            if e == 'Agent' and ele[e].startswith(\"Hi, I'm Taylor, calling from Westlake Financial on a recorded line\"):\n",
    "                continue\n",
    "            formatted_transcript += e + ': '  + ele[e] + '\\n'\n",
    "\n",
    "    print(formatted_transcript)\n",
    "    doc = nlp(formatted_transcript)\n",
    "\n",
    "    print([(X.text, X.label_) for X in doc.ents])\n",
    "    if i==10:\n",
    "        break"
   ]
  },
  {
   "cell_type": "code",
   "execution_count": 9,
   "metadata": {},
   "outputs": [],
   "source": [
    "# from transformers import OpenAIGPTTokenizer, OpenAIGPTModel\n",
    "# import torch\n",
    "\n",
    "# tokenizer = OpenAIGPTTokenizer.from_pretrained(\"openai-gpt\")\n",
    "# model = OpenAIGPTModel.from_pretrained(\"openai-gpt\")\n",
    "\n",
    "# inputs = tokenizer(\"Hello, my dog is cute\", return_tensors=\"pt\")\n",
    "# outputs = model(**inputs)\n",
    "\n",
    "# last_hidden_states = outputs.last_hidden_state"
   ]
  },
  {
   "cell_type": "code",
   "execution_count": 10,
   "metadata": {},
   "outputs": [],
   "source": [
    "# outputs"
   ]
  },
  {
   "cell_type": "code",
   "execution_count": 11,
   "metadata": {},
   "outputs": [],
   "source": [
    "# token_ids = last_hidden_states.view(-1).tolist()\n",
    "\n",
    "# # Decode the token_ids into a sentence\n",
    "# output_sentence = tokenizer.decode(token_ids, skip_special_tokens=True)\n",
    "\n",
    "# print(output_sentence)"
   ]
  },
  {
   "cell_type": "code",
   "execution_count": 12,
   "metadata": {},
   "outputs": [],
   "source": [
    "# output_sentence = tokenizer.decode(last_hidden_states[0], skip_special_tokens=True)\n",
    "\n",
    "# print(output_sentence)"
   ]
  },
  {
   "cell_type": "code",
   "execution_count": 13,
   "metadata": {},
   "outputs": [],
   "source": [
    "# from transformers import OpenAIGPTTokenizer, OpenAIGPTLMHeadModel\n",
    "\n",
    "# # Load the pre-trained model and tokenizer\n",
    "# tokenizer = OpenAIGPTTokenizer.from_pretrained(\"openai-gpt\")\n",
    "# model = OpenAIGPTLMHeadModel.from_pretrained(\"openai-gpt\")\n",
    "\n",
    "# # Define the input text\n",
    "# input_text = \"What id your name\"\n",
    "\n",
    "# # Tokenize the input text\n",
    "# input_ids = tokenizer(input_text, return_tensors=\"pt\").input_ids\n",
    "\n",
    "# # Generate text based on the input\n",
    "# output = model.generate(input_ids, max_length=50, num_return_sequences=1, no_repeat_ngram_size=2, top_k=50, top_p=0.95, temperature=0.7)\n",
    "\n",
    "# # Decode the generated output\n",
    "# generated_text = tokenizer.decode(output[0], skip_special_tokens=True)\n",
    "\n",
    "\n"
   ]
  },
  {
   "cell_type": "code",
   "execution_count": null,
   "metadata": {},
   "outputs": [],
   "source": []
  },
  {
   "cell_type": "code",
   "execution_count": 14,
   "metadata": {},
   "outputs": [],
   "source": [
    "txt = \"Agent: Can you make a payment on the 15th of this month?\\n Customer: Can we move it to the 20th instead? Given the above transcript and todays date as 01/01/2023, give me the date when the customer is expected to make their payment in the format dd/mm/yyyy. Just output the date in your response and nothing else.\"\n"
   ]
  },
  {
   "cell_type": "code",
   "execution_count": 16,
   "metadata": {},
   "outputs": [
    {
     "name": "stderr",
     "output_type": "stream",
     "text": [
      "/Users/pratt/miniconda3/envs/ml_base/lib/python3.11/site-packages/tqdm/auto.py:21: TqdmWarning: IProgress not found. Please update jupyter and ipywidgets. See https://ipywidgets.readthedocs.io/en/stable/user_install.html\n",
      "  from .autonotebook import tqdm as notebook_tqdm\n",
      "Downloading (…)okenizer_config.json: 100%|██████████| 2.54k/2.54k [00:00<00:00, 7.87MB/s]\n",
      "Downloading spiece.model: 100%|██████████| 792k/792k [00:00<00:00, 8.34MB/s]\n",
      "Downloading (…)cial_tokens_map.json: 100%|██████████| 2.20k/2.20k [00:00<00:00, 9.18MB/s]\n",
      "Downloading (…)/main/tokenizer.json: 100%|██████████| 2.42M/2.42M [00:00<00:00, 16.1MB/s]\n",
      "You are using the default legacy behaviour of the <class 'transformers.models.t5.tokenization_t5.T5Tokenizer'>. This is expected, and simply means that the `legacy` (previous) behavior will be used so nothing changes for you. If you want to use the new behaviour, set `legacy=False`. This should only be set if you understand what it means, and thouroughly read the reason why this was added as explained in https://github.com/huggingface/transformers/pull/24565\n",
      "Special tokens have been added in the vocabulary, make sure the associated word embeddings are fine-tuned or trained.\n",
      "Downloading (…)lve/main/config.json: 100%|██████████| 1.44k/1.44k [00:00<00:00, 16.2MB/s]\n",
      "Downloading (…)model.bin.index.json: 100%|██████████| 50.8k/50.8k [00:00<00:00, 30.9MB/s]\n",
      "Downloading (…)l-00001-of-00002.bin: 100%|██████████| 9.45G/9.45G [05:33<00:00, 28.3MB/s]\n",
      "Downloading (…)l-00002-of-00002.bin: 100%|██████████| 1.95G/1.95G [01:08<00:00, 28.4MB/s]\n",
      "Downloading shards: 100%|██████████| 2/2 [06:42<00:00, 201.48s/it]\n",
      "Loading checkpoint shards: 100%|██████████| 2/2 [00:41<00:00, 20.83s/it]\n",
      "Downloading (…)neration_config.json: 100%|██████████| 147/147 [00:00<00:00, 770kB/s]\n",
      "/Users/pratt/miniconda3/envs/ml_base/lib/python3.11/site-packages/transformers/generation/utils.py:1260: UserWarning: Using the model-agnostic default `max_length` (=20) to control the generation length. We recommend setting `max_new_tokens` to control the maximum length of the generation.\n",
      "  warnings.warn(\n"
     ]
    },
    {
     "name": "stdout",
     "output_type": "stream",
     "text": [
      "<pad> Wie alt sind Sie?</s>\n"
     ]
    }
   ],
   "source": [
    "from transformers import T5Tokenizer, T5ForConditionalGeneration\n",
    "\n",
    "tokenizer = T5Tokenizer.from_pretrained(\"google/flan-t5-xl\")\n",
    "model = T5ForConditionalGeneration.from_pretrained(\"google/flan-t5-xl\")\n",
    "\n",
    "input_text = \"translate English to German: How old are you?\"\n",
    "input_ids = tokenizer(input_text, return_tensors=\"pt\").input_ids\n",
    "\n",
    "outputs = model.generate(input_ids)\n",
    "print(tokenizer.decode(outputs[0]))"
   ]
  },
  {
   "cell_type": "code",
   "execution_count": null,
   "metadata": {},
   "outputs": [],
   "source": []
  }
 ],
 "metadata": {
  "kernelspec": {
   "display_name": "scaleai",
   "language": "python",
   "name": "python3"
  },
  "language_info": {
   "codemirror_mode": {
    "name": "ipython",
    "version": 3
   },
   "file_extension": ".py",
   "mimetype": "text/x-python",
   "name": "python",
   "nbconvert_exporter": "python",
   "pygments_lexer": "ipython3",
   "version": "3.11.0"
  }
 },
 "nbformat": 4,
 "nbformat_minor": 2
}
